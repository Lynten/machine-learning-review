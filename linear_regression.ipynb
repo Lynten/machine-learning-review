{
 "cells": [
  {
   "cell_type": "markdown",
   "metadata": {},
   "source": [
    "## 线性回归（Linear Regression）\n",
    "\n",
    "线性回归是机器学习中最简单的模型之一。其假设函数为：\n",
    "$$\n",
    "h(\\mathbf{x})=\\theta \\mathbf{x}=\\theta_0+\\theta_1x_1+\\theta_2x_2+\\theta_3x_3+...+\\theta_mx_m\n",
    "$$\n",
    "其中$x_0=1$。"
   ]
  },
  {
   "cell_type": "markdown",
   "metadata": {},
   "source": [
    "损失函数通常定义为平方误差（Square Error），如下所示：\n",
    "\n",
    "$$\n",
    "J(\\theta)=\\frac{1}{2n}\\sum_{i=1}^{n}(h(\\mathbf{x}^i)-y^i)^2\n",
    "$$\n",
    "\n",
    "其中构造的$\\frac{1}{2}$是为了后面求导数时可以消掉。"
   ]
  },
  {
   "cell_type": "markdown",
   "metadata": {},
   "source": [
    "此时$\\theta$的求解转换为凸优化问题，通常使用梯度下降法进行求解：\n",
    "\n",
    "Repeat {\n",
    "\n",
    "\\begin{equation}\n",
    "\\begin{aligned}\n",
    "\\theta_0 = & \\theta_0-\\alpha\\frac{1}{n}\\sum_{i=1}^{n}(h(\\mathbf{x}^i)-y^i)x_0^i \\\\\n",
    "\\theta_1 = & \\theta_1-\\alpha\\frac{1}{n}\\sum_{i=1}^{n}(h(\\mathbf{x}^i)-y^i)x_1^i \\\\\n",
    "\\theta_2 = & \\theta_2-\\alpha\\frac{1}{n}\\sum_{i=1}^{n}(h(\\mathbf{x}^i)-y^i)x_2^i \\\\\n",
    "\\vdots \\\\\n",
    "\\theta_m = & \\theta_m-\\alpha\\frac{1}{n}\\sum_{i=1}^{n}(h(\\mathbf{x}^i)-y^i)x_m^i \\\\\n",
    "\\end{aligned}\n",
    "\\end{equation}\n",
    "\n",
    "(simultaneously)\n",
    "\n",
    "} until convergence\n",
    "\n",
    "其中$\\alpha$为学习率，通常取值为0.03-0.1。"
   ]
  },
  {
   "cell_type": "markdown",
   "metadata": {},
   "source": [
    "下面以Boston Housing Data数据集作为例子，编程实现多元线性回归。Boston Housing Data数据集共有14个属性（包括待预测的房价），506个样本，部分数据如下所示：\n",
    "\n",
    "| CRIM | ZN | INDUS | CHAS | NOX | RM | AGE | DIS | RAD | TAX | PTRATIO | B | LSTAT | MEDV|\n",
    "| -- | -- | -- | -- | -- | -- | -- | -- | -- | -- | -- | -- | -- |\n",
    "|0.00632 | 18.00  | 2.310 | 0 | 0.5380 | 6.5750 | 65.20 | 4.0900  | 1 | 296.0 | 15.30 | 396.90  | 4.98 | 24.00 |\n",
    "|0.02731 |  0.00  | 7.070 | 0 | 0.4690 | 6.4210 | 78.90 | 4.9671  | 2 | 242.0 | 17.80 | 396.90  | 9.14 | 21.60 |\n",
    "|0.02729 |  0.00  | 7.070 | 0 | 0.4690 | 7.1850 | 61.10 | 4.9671  | 2 | 242.0 | 17.80 | 392.83  | 4.03 | 34.70 |\n",
    "|0.03237 |  0.00  | 2.180 | 0 | 0.4580 | 6.9980 | 45.80 | 6.0622  | 3 | 222.0 | 18.70 | 394.63  | 2.94 | 33.40 |\n",
    "|0.06905 |  0.00  | 2.180 | 0 | 0.4580 | 7.1470 | 54.20 | 6.0622  | 3 | 222.0 | 18.70 | 396.90  | 5.33 | 36.20 |\n",
    "\n",
    "1. **CRIM**      per capita crime rate by town\n",
    "2. **ZN**        proportion of residential land zoned for lots over 25,000 sq.ft.\n",
    "3. **INDUS**     proportion of non-retail business acres per town\n",
    "4. **CHAS**      Charles River dummy variable (= 1 if tract bounds river; 0 otherwise)\n",
    "5. **NOX**       nitric oxides concentration (parts per 10 million)\n",
    "6. **RM**        average number of rooms per dwelling\n",
    "7. **AGE**       proportion of owner-occupied units built prior to 1940\n",
    "8. **DIS**       weighted distances to five Boston employment centres\n",
    "9. **RAD**       index of accessibility to radial highways\n",
    "10. **TAX**      full-value property-tax rate per \\$10,000\n",
    "11. **PTRATIO**  pupil-teacher ratio by town\n",
    "12. **B**        1000(Bk - 0.63)^2 where Bk is the proportion of blacks by town\n",
    "13. **LSTAT**    % lower status of the population\n",
    "14. **MEDV**     Median value of owner-occupied homes in \\$1000's (待预测的房价)"
   ]
  },
  {
   "cell_type": "code",
   "execution_count": null,
   "metadata": {
    "collapsed": true
   },
   "outputs": [],
   "source": [
    "# coding=utf-8\n",
    "\n",
    "import numpy as np\n",
    "from sklearn import datasets\n",
    "from sklearn.preprocessing import StandardScaler\n",
    "\n",
    "boston = datasets.load_boston()\n",
    "\n",
    "X, y = boston.data, boston.target\n",
    "\n",
    "scaler = StandardScaler()\n",
    "scaler = scaler.fit(X)\n",
    "X = scaler.transform(X)\n",
    "\n",
    "X = np.hstack((np.array([1] * len(X)).reshape((-1, 1)), X))\n",
    "\n",
    "print X.shape, y.shape\n",
    "\n",
    "theta = np.array([1] * len(X[0]))  # 初始化\n",
    "\n",
    "print theta.shape\n",
    "\n",
    "\n",
    "def cost(X, y, theta):\n",
    "    return np.sum([(np.sum(x * theta) - y[idx]) ** 2 for idx, x in enumerate(X)]) / 2\n",
    "\n",
    "\n",
    "def converge(theta0, theta1):\n",
    "    if np.sum(np.abs(theta1 - theta0)) < 0.1:\n",
    "        return True\n",
    "    else:\n",
    "        return False\n",
    "\n",
    "\n",
    "alpha = 0.0003\n",
    "n = len(X)\n",
    "\n",
    "while True:\n",
    "    theta_pre = theta.copy()\n",
    "    print theta_pre\n",
    "\n",
    "    for idx, t in enumerate(theta_pre):\n",
    "        theta[idx] = theta_pre[idx] - alpha / n * np.sum((np.dot(X, theta_pre) - y) * X[:, idx])\n",
    "\n",
    "    print 'Cost:{}'.format(cost(X, y, theta))\n",
    "\n",
    "    if converge(theta_pre, theta):\n",
    "        break\n",
    "\n",
    "print theta  "
   ]
  },
  {
   "cell_type": "markdown",
   "metadata": {},
   "source": [
    "References：\n",
    "\n",
    "[1] https://archive.ics.uci.edu/ml/machine-learning-databases/housing/housing.names\n"
   ]
  }
 ],
 "metadata": {
  "kernelspec": {
   "display_name": "Python 2",
   "language": "python",
   "name": "python2"
  },
  "language_info": {
   "codemirror_mode": {
    "name": "ipython",
    "version": 2
   },
   "file_extension": ".py",
   "mimetype": "text/x-python",
   "name": "python",
   "nbconvert_exporter": "python",
   "pygments_lexer": "ipython2",
   "version": "2.7.13"
  },
  "latex_envs": {
   "LaTeX_envs_menu_present": true,
   "autocomplete": true,
   "bibliofile": "biblio.bib",
   "cite_by": "apalike",
   "current_citInitial": 1,
   "eqLabelWithNumbers": true,
   "eqNumInitial": 1,
   "hotkeys": {
    "equation": "Ctrl-E",
    "itemize": "Ctrl-I"
   },
   "labels_anchors": false,
   "latex_user_defs": false,
   "report_style_numbering": false,
   "user_envs_cfg": false
  },
  "toc": {
   "colors": {
    "hover_highlight": "#DAA520",
    "running_highlight": "#FF0000",
    "selected_highlight": "#FFD700"
   },
   "moveMenuLeft": true,
   "nav_menu": {
    "height": "30px",
    "width": "252px"
   },
   "navigate_menu": true,
   "number_sections": true,
   "sideBar": true,
   "threshold": 4,
   "toc_cell": false,
   "toc_section_display": "block",
   "toc_window_display": false,
   "widenNotebook": false
  }
 },
 "nbformat": 4,
 "nbformat_minor": 2
}
