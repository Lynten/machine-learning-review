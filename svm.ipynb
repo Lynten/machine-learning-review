{
 "cells": [
  {
   "cell_type": "markdown",
   "metadata": {},
   "source": [
    "## 建模\n",
    "\n",
    "\\begin{equation}\n",
    "\\begin{aligned}\n",
    "\\text{min} \\ & ||\\mathbf{w}|| \\\\\n",
    "s.t. \\ &  y^i(\\mathbf{w}^T\\mathbf{x}^i+b) \\ge 1 \\ (\\text{for any} \\ i=1,...,n)\n",
    "\\end{aligned}\n",
    "\\end{equation}\n",
    "\n",
    "至此，问题转化为**不等式约束优化问题**。\n",
    "\n",
    "我们可以利用[在线工具](http://apmonitor.com/online/view_pass.php?f=hs071.apm)求解以验证我们的想法是否正确。我们继续使用感知器算法里的数据，求得$w_1=0.160583898425$,$w_2=0.145985394716$,$b=-2.44525504112$。超平面如下所示：\n"
   ]
  },
  {
   "cell_type": "code",
   "execution_count": 2,
   "metadata": {},
   "outputs": [
    {
     "data": {
      "image/png": "[encoded data removed]",
      "text/plain": [
       "<matplotlib.figure.Figure at 0x1e5d1f28>"
      ]
     },
     "metadata": {},
     "output_type": "display_data"
    }
   ],
   "source": [
    "import numpy as np\n",
    "import matplotlib.pyplot as plt\n",
    "import seaborn as sns \n",
    "\n",
    "X=np.array([[3.,1.1],\n",
    "              [2.,2.2],\n",
    "              [1.,2.3],\n",
    "              [5.,4.4],\n",
    "              [4.,5.5],\n",
    "              [11.,11.5],\n",
    "              [15.,12.4],\n",
    "              [13.,13.3],\n",
    "              [14.,14.2],\n",
    "              [11.,15.1]])\n",
    "y=np.array([-1.,-1.,-1.,-1.,-1.,1.,1.,1.,1.,1.])\n",
    "\n",
    "plt.figure(figsize=(10,5))\n",
    "plt.scatter(X[y==-1,0],X[y==-1,1])\n",
    "plt.scatter(X[y==1,0],X[y==1,1],color='r')\n",
    "\n",
    "\n",
    "w1=0.160583898425\n",
    "w2=0.145985394716\n",
    "b=-2.44525504112\n",
    "\n",
    "x=np.arange(16)\n",
    "y=-w1/w2*x-b/w2\n",
    "plt.plot(x,y,color='g')\n",
    "plt.show()"
   ]
  },
  {
   "cell_type": "markdown",
   "metadata": {},
   "source": [
    "## 求解\n",
    "\n",
    "### 拉格朗日乘子法\n",
    "\n",
    "$$\n",
    "L(\\mathbf{w},b,\\mathbf{\\lambda})=||\\mathbf{w}||+\\sum^{n}_{i=1}\\lambda_i(y^i(\\mathbf{w}^T\\mathbf{x}^i+b)-1)\n",
    "$$"
   ]
  },
  {
   "cell_type": "markdown",
   "metadata": {},
   "source": [
    "\\begin{equation}\n",
    "\\frac{\\partial L(\\mathbf{w},b,\\mathbf{\\lambda})}{\\partial w_1}=2w_1+\\sum^{n}_{i=1}\\lambda_iy^ix_1=0 \\\\\n",
    "\\frac{\\partial L(\\mathbf{w},b,\\mathbf{\\lambda})}{\\partial w_2}=2w_2+\\sum^{n}_{i=1}\\lambda_iy^ix_2=0 \\\\\n",
    "\\vdots \\\\\n",
    "\\frac{\\partial L(\\mathbf{w},b,\\mathbf{\\lambda})}{\\partial w_m}=2w_m+\\sum^{n}_{i=1}\\lambda_iy^ix_m=0 \\\\\n",
    "\\frac{\\partial L(\\mathbf{w},b,\\mathbf{\\lambda})}{\\partial b}=\\sum^{n}_{i=1}\\lambda_iy^i=0 \\\\\n",
    "\\frac{\\partial L(\\mathbf{w},b,\\mathbf{\\lambda})}{\\partial \\lambda_1}=y^1(\\mathbf{w}^T\\mathbf{x}^1+b)-1=0 \\\\\n",
    "\\frac{\\partial L(\\mathbf{w},b,\\mathbf{\\lambda})}{\\partial \\lambda_2}=y^2(\\mathbf{w}^T\\mathbf{x}^2+b)-1=0 \\\\\n",
    "\\vdots \\\\\n",
    "\\frac{\\partial L(\\mathbf{w},b,\\mathbf{\\lambda})}{\\partial \\lambda_n}=y^n(\\mathbf{w}^T\\mathbf{x}^n+b)-1=0 \\\\\n",
    "\\end{equation}"
   ]
  },
  {
   "cell_type": "markdown",
   "metadata": {},
   "source": [
    "\\begin{equation}\n",
    "\\begin{aligned}\n",
    "2w_1+0w_2+0b-\\lambda_1-2\\lambda_2-3\\lambda_3+7\\lambda_4+8\\lambda_5+9\\lambda_6+10\\lambda_7 & =0 \\\\\n",
    "0w_1+2w_2+0b-\\lambda_1-2\\lambda_2-\\lambda_3+7\\lambda_4+8\\lambda_5+6\\lambda_6+7.5\\lambda_7 & =0 \\\\\n",
    "-\\lambda_1-\\lambda_2-\\lambda_3+\\lambda_4+\\lambda_5+\\lambda_6+\\lambda_7 & =0 \\\\\n",
    "-w_1-w_2-b & =1 \\\\\n",
    "-2w_1-2w_2-b & =1 \\\\\n",
    "-3w_1-w_2-b & =1 \\\\\n",
    "7w_1+7w_2+b & =1 \\\\ \n",
    "8w_1+8w_2+b & =1 \\\\\n",
    "9w_1+6w_2+b & =1 \\\\\n",
    "10w_1+7.5w_2+b & =1 \\\\\n",
    "\\end{aligned} \\\\\n",
    "\\end{equation}"
   ]
  },
  {
   "cell_type": "markdown",
   "metadata": {},
   "source": [
    "标准形式：\n",
    "\\begin{equation}\n",
    "\\begin{aligned}\n",
    "\\text{min} \\ & f(\\mathbf{x}) \\\\\n",
    "s.t.\\  & g_i(\\mathbf{x}) \\le 0 \\ (\\text{for any} \\ i=1,...,p) \\\\\n",
    "& h_j(\\mathbf{x}) = 0 \\ (\\text{for any} \\ j=1,...,q)\n",
    "\\end{aligned}\n",
    "\\end{equation}"
   ]
  },
  {
   "cell_type": "markdown",
   "metadata": {},
   "source": [
    "设最优点为$\\mathbf{x}^*$。"
   ]
  },
  {
   "cell_type": "markdown",
   "metadata": {},
   "source": [
    "KKT条件（Karush-Kuhn-Tucker Conditions）：\n",
    "\n",
    "-  $g_i(\\mathbf{x}^*) \\le 0 \\ (\\text{for any} \\ i=1,...,p) \\ \\text{and} \\ h_j(\\mathbf{x}^*) = 0 \\ (\\text{for any} \\ j=1,...,q)$ —— 可行性条件\n",
    "- $\\nabla f(\\mathbf{x}^*)+\\sum^{p}_{i=1}{\\mu_i}^* \\nabla g_i(\\mathbf{x}^*) + \\sum^{q}_{j=1} {\\lambda_j}^* \\nabla h_j(\\mathbf{x}^*) =0 \\ (\\text{for any} \\ i=1,...,p \\ \\text{and} \\ \\text{for any} \\ j=1,...,q)$\n",
    "- $\\mu_i g_i(\\mathbf{x}^*) = 0 \\ (\\text{for any} \\ i=1,...,p)$ —— 互补松弛性条件\n",
    "- $\\mu_i \\ge 0 \\ (\\forall i=1,...,p)$\n",
    "\n",
    "\n",
    "1. 最优点$\\mathbf{x}^*$必须满足所有等式及不等式限制条件, 也就是说最优点必须是一个可行解, 这一点自然是毋庸置疑的。\n",
    "2. 这个又可以表述为：\n",
    "$$\n",
    "\\nabla_\\mathbf{x}L(\\mathbf{x},\\mathbf{\\mu},\\mathbf{\\lambda})=0 \\\\\n",
    "\\nabla_\\mathbf{\\mu}L(\\mathbf{x},\\mathbf{\\mu},\\mathbf{\\lambda})=0 \\\\\n",
    "\\nabla_\\mathbf{\\lambda}L(\\mathbf{x},\\mathbf{\\mu},\\mathbf{\\lambda})=0 \n",
    "$$\n",
    "注：$\\nabla_\\mathbf{x}L(\\mathbf{x},\\mathbf{\\mu},\\mathbf{\\lambda})$, $\\nabla_\\mathbf{\\mu}L(\\mathbf{x},\\mathbf{\\mu},\\mathbf{\\lambda})$, $\\nabla_\\mathbf{\\lambda}L(\\mathbf{x},\\mathbf{\\mu},\\mathbf{\\lambda})$得到的均为向量。\n",
    "3. 因为$\\mu_i \\ge 0$，若$\\mu_i \\gt 0$，则$g_i(\\mathbf{x}^*) = 0$。"
   ]
  },
  {
   "cell_type": "markdown",
   "metadata": {},
   "source": [
    "### 牛顿法"
   ]
  },
  {
   "cell_type": "markdown",
   "metadata": {},
   "source": [
    "### 拟牛顿法\n",
    "\n",
    "拟牛顿法（Quasi-Newtons Method）是牛顿法的改进。目前有BFGS，L-BFGS等实现方式。"
   ]
  }
 ],
 "metadata": {
  "kernelspec": {
   "display_name": "Python 2",
   "language": "python",
   "name": "python2"
  },
  "language_info": {
   "codemirror_mode": {
    "name": "ipython",
    "version": 2
   },
   "file_extension": ".py",
   "mimetype": "text/x-python",
   "name": "python",
   "nbconvert_exporter": "python",
   "pygments_lexer": "ipython2",
   "version": "2.7.13"
  },
  "toc": {
   "colors": {
    "hover_highlight": "#DAA520",
    "running_highlight": "#FF0000",
    "selected_highlight": "#FFD700"
   },
   "moveMenuLeft": true,
   "nav_menu": {
    "height": "102px",
    "width": "252px"
   },
   "navigate_menu": true,
   "number_sections": true,
   "sideBar": true,
   "threshold": 4,
   "toc_cell": false,
   "toc_position": {
    "height": "504px",
    "left": "0px",
    "right": "auto",
    "top": "106px",
    "width": "196px"
   },
   "toc_section_display": "block",
   "toc_window_display": true,
   "widenNotebook": false
  }
 },
 "nbformat": 4,
 "nbformat_minor": 2
}
