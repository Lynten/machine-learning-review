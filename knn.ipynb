{
 "cells": [
  {
   "cell_type": "markdown",
   "metadata": {},
   "source": [
    "## k最近邻（k-Nearest Neighbors）\n",
    "\n",
    "k最近邻应该是最简单的分类器了，选择与待测目标最相似的前k个样本，然后将k个样本中数量最多的类标号作为其类别。\n",
    "\n",
    "其中相似度可以用欧几里得距离、余弦相似度、皮尔森相关系数等进行度量。我们这里使用欧几里得距离进行说明：\n",
    "\n",
    "$$Euclidean(x^1,x^2)=\\sqrt{(x^1_1-x^2_1)^2+(x^1_2-x^2_2)^2+(x^1_3-x^2_3)^2+...+(x^1_m-x^2_m)^2}$$"
   ]
  },
  {
   "cell_type": "code",
   "execution_count": 1,
   "metadata": {
    "collapsed": false
   },
   "outputs": [
    {
     "name": "stdout",
     "output_type": "stream",
     "text": [
      "Result:\n",
      "-1.0\n"
     ]
    }
   ],
   "source": [
    "import math\n",
    "import numpy as np\n",
    "from collections import Counter\n",
    "\n",
    "def euclidean_distance(x1,x2):\n",
    "    return math.sqrt(np.sum(np.power(x1-x2,2)))\n",
    "\n",
    "\n",
    "X=np.asarray([[3.,1.1],\n",
    "              [2.,2.2],\n",
    "              [1.,2.3],\n",
    "              [5.,4.4],\n",
    "              [4.,5.5],\n",
    "              [11.,11.5],\n",
    "              [15.,12.4],\n",
    "              [13.,13.3],\n",
    "              [14.,14.2],\n",
    "              [11.,15.1]])\n",
    "y=np.asarray([-1.,-1.,-1.,-1.,-1.,1.,1.,1.,1.,1.])\n",
    "\n",
    "\n",
    "x_test=[8.,8.]\n",
    "k=3\n",
    "\n",
    "distances=[]\n",
    "for x in X:\n",
    "    distances.append(euclidean_distance(x,x_test))\n",
    "\n",
    "sorted_t=sorted(zip(distances,y),key=lambda x:x[0])\n",
    "\n",
    "# Check\n",
    "# for key,val in sorted_t:\n",
    "#     print key,val\n",
    "\n",
    "# 选择距离最短的前k个，并将最多的类标签作为其标签\n",
    "print 'Result:'\n",
    "c=Counter([val for key,val in sorted_t[:k]])\n",
    "print c.most_common()[0][0]"
   ]
  }
 ],
 "metadata": {
  "kernelspec": {
   "display_name": "Python 2",
   "language": "python",
   "name": "python2"
  },
  "language_info": {
   "codemirror_mode": {
    "name": "ipython",
    "version": 2
   },
   "file_extension": ".py",
   "mimetype": "text/x-python",
   "name": "python",
   "nbconvert_exporter": "python",
   "pygments_lexer": "ipython2",
   "version": "2.7.12"
  }
 },
 "nbformat": 4,
 "nbformat_minor": 2
}
