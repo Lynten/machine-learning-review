{
 "cells": [
  {
   "cell_type": "markdown",
   "metadata": {},
   "source": [
    "## 感知器（Perceptron）模型\n",
    "\n",
    "感知器模型是较为简单的线性模型。\n",
    "\n",
    "### 基本模型\n",
    "\n",
    "（一）假设函数：\n",
    "\n",
    "$$h(x)=sign(w^Tx)$$\n",
    "\n",
    "其中sign()表示括号内式子大于0时取值1,小于等于0时取值-1，$w_T=(w_0,w_1,...,w_m)$，$x=(x_0,x_1,...,x_m)$，$x_0=1$。\n",
    "\n",
    "为了下文叙述方便，我们设$w_0=b$，$h(x)=sign(\\sum_{i=1}^nw_ix_i+b)=sign(w^Tx+b)$。其中$w$和$b$确定了一个**超平面**$h$，其中$w^Th+b=0$。在超平面的一侧，数据点为正例，在另一侧为负例。\n",
    "\n",
    "\n",
    "（二）损失函数：\n",
    "\n",
    "我们需要损失函数来衡量算法预测值与真实值之间的偏差，首先可能想到的损失函数是错误分类的个数，但此损失函数对于$w,b$来说不可导，因此不能利用梯度下降的方法进行训练。因此我们选择了另外一个叫做**误分类点到超平面的总距离**作为损失函数。\n",
    "\n",
    "<img src=\"fig1-1.png\" width=\"600px\" align=\"center\" />\n",
    "\n",
    "点$x$到超平面的距离为：\n",
    "$$\\frac{|w^Tx+b|}{||w||}$$\n",
    "\n",
    "推导过程：\n",
    "\n",
    "由图中可知$z=x+y$，由于$y$与法向量$w$共线，可设$y=\\lambda w$，可得$z=x+\\lambda w$。\n",
    "\n",
    "由于$z$点在超平面上，所以$w^Tz+b=0$，可得$w^Tx+\\lambda w^Tw+b=0$，于是$\\lambda =\\frac{-(w^Tx+b)}{w^Tw}$。\n",
    "\n",
    "所以点$x$到超平面的距离$d=||y||=|\\lambda|||w||=\\frac{|w^Tx+b|}{||w||}$。\n",
    "\n",
    "\n",
    "当点$x$为误分类点时，$y^iw^Tx+b\\le0$，此时$|w^Tx+b|$可化为$-y(w^Tx+b)$。\n",
    "\n",
    "所以最终的损失函数为：\n",
    "\n",
    "$$L(w,b)=\\sum_{i=1}^{n}-y^i(w^Tx^i+b)$$\n",
    "\n",
    "\n",
    "（三）梯度下降求$w,b$：\n",
    "\n",
    "初始化$w$和$b$,对于训练集中的每个错误分类的样本，执行：\n",
    "\n",
    "update simultaniously {\n",
    "\n",
    "$w=w+\\alpha \\sum_{i=1}^{n}y^ix^i$\n",
    "\n",
    "$b=b+\\alpha \\sum_{i=1}^{n}y^i$\n",
    "\n",
    "} repeat until there are no mistakes\n",
    "\n",
    "其中$\\alpha$为学习率，通常取值为0.01-0.3。\n",
    "\n",
    "优化：\n",
    "\n",
    "传统的梯度下降方法每次更新权值时，都需要遍历所有的错误分类的样本，这样使得训练过程十分缓慢，可以使用随机梯度下降方法对上述过程进行优化。\n",
    "\n",
    "### Pocket PLA\n",
    "在真实世界中，数据经常是线性不可分的或者存在一定的噪音，这样会造成上述训练过程不会收敛，因此有人提出Pocket PLA训练方法，先在“口袋”里保存一个初始权值，在每次权值更新之后计算总误差（误分类点到超平面的距离之和），当总误差比口袋里的更小时，则替换掉口袋里的权值，最后返回口袋里的权值。\n"
   ]
  },
  {
   "cell_type": "markdown",
   "metadata": {},
   "source": [
    "### Code from Scratch\n",
    "下面是二维数据点的代码演示，其中有10个数据点，中间的绿色线为超平面。"
   ]
  },
  {
   "cell_type": "code",
   "execution_count": 1,
   "metadata": {},
   "outputs": [
    {
     "name": "stdout",
     "output_type": "stream",
     "text": [
      "Result:\n",
      "[[ 0.02 ]\n",
      " [ 0.048]\n",
      " [-0.64 ]]\n"
     ]
    },
    {
     "data": {
      "image/png": "[encoded data removed]",
      "text/plain": [
       "<matplotlib.figure.Figure at 0x7f25a3517850>"
      ]
     },
     "metadata": {},
     "output_type": "display_data"
    }
   ],
   "source": [
    "import numpy as np\n",
    "import matplotlib.pyplot as plt\n",
    "import seaborn as sns\n",
    "\n",
    "X=np.asarray([[3.,1.1],\n",
    "              [2.,2.2],\n",
    "              [1.,2.3],\n",
    "              [5.,4.4],\n",
    "              [4.,5.5],\n",
    "              [11.,11.5],\n",
    "              [15.,12.4],\n",
    "              [13.,13.3],\n",
    "              [14.,14.2],\n",
    "              [11.,15.1]])\n",
    "y=np.asarray([-1.,-1.,-1.,-1.,-1.,1.,1.,1.,1.,1.])\n",
    "\n",
    "plt.figure(figsize=(10,5))\n",
    "plt.scatter(X[y==-1,0],X[y==-1,1])\n",
    "plt.scatter(X[y==1,0],X[y==1,1],color='r')\n",
    "\n",
    "# 增加一列1向量\n",
    "X=np.hstack([X,np.ones(shape=(X.shape[0],1))])\n",
    "y=y.reshape(len(y),1)\n",
    "\n",
    "alpha=0.01 # 学习速率\n",
    "w=np.zeros(shape=(X.shape[1],1))# 初始化权重为0向量\n",
    "\n",
    "while True:\n",
    "    mask=np.sign(np.dot(X,w))!=np.sign(y)\n",
    "    mask=mask.flatten()\n",
    "#     print 'Mask:',mask\n",
    "\n",
    "    # 判断是否还有误分类点\n",
    "    if len(np.nonzero(mask)[0])<=0:\n",
    "        break;\n",
    "    \n",
    "    X_m=X[mask,:]\n",
    "    y_m=y[mask,:]\n",
    "    \n",
    "    # 梯度\n",
    "    w=w+alpha*(np.dot(X_m.T,y_m))\n",
    "\n",
    "print 'Result:'\n",
    "print w\n",
    "\n",
    "# Test\n",
    "# print 'Check:'\n",
    "# for row in X:\n",
    "#     print 'x={},wx={}'.format(row,np.dot(row,w))\n",
    "\n",
    "# 超平面\n",
    "k=-w[0,0]/w[1,0]\n",
    "b=-w[2,0]/w[1,0]\n",
    "\n",
    "x=np.arange(16)\n",
    "y=k*x+b\n",
    "\n",
    "plt.plot(x,y,color='g')\n",
    "plt.show()"
   ]
  },
  {
   "cell_type": "markdown",
   "metadata": {},
   "source": [
    "References\n",
    "\n",
    "[1] http://www.cnblogs.com/wacc/p/3848418.html"
   ]
  }
 ],
 "metadata": {
  "kernelspec": {
   "display_name": "Python 2",
   "language": "python",
   "name": "python2"
  },
  "language_info": {
   "codemirror_mode": {
    "name": "ipython",
    "version": 2
   },
   "file_extension": ".py",
   "mimetype": "text/x-python",
   "name": "python",
   "nbconvert_exporter": "python",
   "pygments_lexer": "ipython2",
   "version": "2.7.13"
  },
  "toc": {
   "colors": {
    "hover_highlight": "#DAA520",
    "running_highlight": "#FF0000",
    "selected_highlight": "#FFD700"
   },
   "moveMenuLeft": true,
   "nav_menu": {
    "height": "84px",
    "width": "252px"
   },
   "navigate_menu": true,
   "number_sections": true,
   "sideBar": true,
   "threshold": 4,
   "toc_cell": false,
   "toc_section_display": "block",
   "toc_window_display": false,
   "widenNotebook": false
  }
 },
 "nbformat": 4,
 "nbformat_minor": 2
}
