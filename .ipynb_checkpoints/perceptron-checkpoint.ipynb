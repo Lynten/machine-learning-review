{
 "cells": [
  {
   "cell_type": "markdown",
   "metadata": {},
   "source": [
    "\n",
    "假设函数：\n",
    "\n",
    "$$h(x)=sign(w^Tx)$$\n",
    "\n",
    "其中sign()表示括号内式子大于0时取值1,小于等于0时取值-1，$w_T=(w_0,w_1,...,w_m)$，$x=(x_0,x_1,...,x_m)$，$x_0=1$。\n",
    "\n",
    "为了下文叙述方便，我们设$w_0=b$，$h(x)=sign(\\sum_{i=1}^nw_ix_i+b)=sign(w^Tx+b)$。其中$w$和$b$确定了一个**超平面**。\n",
    "\n",
    "\n",
    "损失函数：\n",
    "\n",
    "我们需要损失函数来衡量算法预测值与真实值之间的偏差，首先可能想到的损失函数是错误分类的个数，但此损失函数对于$w,b$来说不可导，因此不能利用梯度下降的方法进行训练。因此我们选择了另外一个叫做**误分类点到超平面的总距离**作为损失函数。\n",
    "\n",
    "点$x$到超平面的距离为：\n",
    "$$\\frac{|w^Tx+b|}{||w||}$$\n",
    "\n",
    "推导过程：\n",
    "\n",
    "由图中可知$z=x+y$，由于$y$与法向量$w$共线，可设$y=\\lambda w$，可得$z=x+\\lambda w$。\n",
    "\n",
    "由于$z$点在超平面上，所以$w^Tz+b=0$，可得$w^Tx+\\lambda w^Tw+b=0$，于是$\\lambda =\\frac{-(w^Tx+b)}{w^Tw}$。\n",
    "\n",
    "所以点$x$到超平面的距离$d=||y||=|\\lambda|||w||=\\frac{|w^Tx+b|}{||w||}$。\n",
    "\n",
    "当点$x$为误分类点时，$y^iw^Tx+b\\le0$，此时$|w^Tx+b|$可化为$-y(w^Tx+b)$。\n",
    "\n",
    "所以最终的损失函数为：\n",
    "\n",
    "$$L(w,b)=\\sum_{i=1}^{n}-y^i(w^Tx^i+b)$$\n",
    "\n",
    "\n",
    "梯度下降求$w,b$：\n",
    "\n",
    "update simultaniously{\n",
    "\n",
    "$w=w+\\alpha \\sum_{i=1}^{n}y^ix^i$\n",
    "\n",
    "$b=b+\\alpha \\sum_{i=1}^{n}y^i$\n",
    "\n",
    "} repeat until $w,b$ converge\n",
    "\n",
    "其中$\\alpha$为学习率，通常取值为0.01-0.3。\n",
    "\n",
    "使用向量表示为：\n",
    "\n",
    "update simultaniously{\n",
    "\n",
    "$w=w+\\alpha yx$\n",
    "\n",
    "} repeat until $w$ converge\n"
   ]
  }
 ],
 "metadata": {
  "kernelspec": {
   "display_name": "Python 2",
   "language": "python",
   "name": "python2"
  },
  "language_info": {
   "codemirror_mode": {
    "name": "ipython",
    "version": 2
   },
   "file_extension": ".py",
   "mimetype": "text/x-python",
   "name": "python",
   "nbconvert_exporter": "python",
   "pygments_lexer": "ipython2",
   "version": "2.7.12"
  }
 },
 "nbformat": 4,
 "nbformat_minor": 2
}
