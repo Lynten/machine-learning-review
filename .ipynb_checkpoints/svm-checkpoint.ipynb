{
 "cells": [
  {
   "cell_type": "markdown",
   "metadata": {},
   "source": [
    "\\begin{equation}\n",
    "\\begin{aligned}\n",
    "\\text{min} \\ & ||\\mathbf{w}|| \\\\\n",
    "& s.t. \\ y^i(\\mathbf{w}^T\\mathbf{x}^i+b) \\ge 1 \\ (\\text{for any} \\ i=1,...,n)\n",
    "\\end{aligned}\n",
    "\\end{equation}\n",
    "\n",
    "问题转化为不等式约束优化问题。\n",
    "\n",
    "$$\n",
    "L(\\mathbf{w},b,\\mathbf{\\lambda})=||\\mathbf{w}||+\\sum^{n}_{i=1}\\lambda_i(y^i(\\mathbf{w}^T\\mathbf{x}^i+b)-1)\n",
    "$$\n",
    "\n",
    "\n",
    "\n",
    "\n"
   ]
  },
  {
   "cell_type": "markdown",
   "metadata": {},
   "source": [
    "\\begin{equation}\n",
    "\\frac{\\partial L(\\mathbf{w},b,\\mathbf{\\lambda})}{\\partial w_1}=2w_1+\\sum^{n}_{i=1}\\lambda_iy^ix_1=0 \\\\\n",
    "\\frac{\\partial L(\\mathbf{w},b,\\mathbf{\\lambda})}{\\partial w_2}=2w_2+\\sum^{n}_{i=1}\\lambda_iy^ix_2=0 \\\\\n",
    "\\vdots \\\\\n",
    "\\frac{\\partial L(\\mathbf{w},b,\\mathbf{\\lambda})}{\\partial w_m}=2w_m+\\sum^{n}_{i=1}\\lambda_iy^ix_m=0 \\\\\n",
    "\\frac{\\partial L(\\mathbf{w},b,\\mathbf{\\lambda})}{\\partial b}=\\sum^{n}_{i=1}\\lambda_iy^i=0 \\\\\n",
    "\\frac{\\partial L(\\mathbf{w},b,\\mathbf{\\lambda})}{\\partial \\lambda_1}=y^1(\\mathbf{w}^T\\mathbf{x}^1+b)-1=0 \\\\\n",
    "\\frac{\\partial L(\\mathbf{w},b,\\mathbf{\\lambda})}{\\partial \\lambda_2}=y^2(\\mathbf{w}^T\\mathbf{x}^2+b)-1=0 \\\\\n",
    "\\vdots \\\\\n",
    "\\frac{\\partial L(\\mathbf{w},b,\\mathbf{\\lambda})}{\\partial \\lambda_n}=y^n(\\mathbf{w}^T\\mathbf{x}^n+b)-1=0 \\\\\n",
    "\\end{equation}"
   ]
  },
  {
   "cell_type": "markdown",
   "metadata": {},
   "source": [
    "\\begin{equation}\n",
    "\\begin{aligned}\n",
    "2w_1+0w_2+0b-\\lambda_1-2\\lambda_2-3\\lambda_3+7\\lambda_4+8\\lambda_5+9\\lambda_6+10\\lambda_7 & =0 \\\\\n",
    "0w_1+2w_2+0b-\\lambda_1-2\\lambda_2-\\lambda_3+7\\lambda_4+8\\lambda_5+6\\lambda_6+7.5\\lambda_7 & =0 \\\\\n",
    "-\\lambda_1-\\lambda_2-\\lambda_3+\\lambda_4+\\lambda_5+\\lambda_6+\\lambda_7 & =0 \\\\\n",
    "-w_1-w_2-b & =1 \\\\\n",
    "-2w_1-2w_2-b & =1 \\\\\n",
    "-3w_1-w_2-b & =1 \\\\\n",
    "7w_1+7w_2+b & =1 \\\\ \n",
    "8w_1+8w_2+b & =1 \\\\\n",
    "9w_1+6w_2+b & =1 \\\\\n",
    "10w_1+7.5w_2+b & =1 \\\\\n",
    "\\end{aligned} \\\\\n",
    "\\end{equation}"
   ]
  }
 ],
 "metadata": {
  "kernelspec": {
   "display_name": "Python 2",
   "language": "python",
   "name": "python2"
  },
  "language_info": {
   "codemirror_mode": {
    "name": "ipython",
    "version": 2
   },
   "file_extension": ".py",
   "mimetype": "text/x-python",
   "name": "python",
   "nbconvert_exporter": "python",
   "pygments_lexer": "ipython2",
   "version": "2.7.12"
  }
 },
 "nbformat": 4,
 "nbformat_minor": 2
}
