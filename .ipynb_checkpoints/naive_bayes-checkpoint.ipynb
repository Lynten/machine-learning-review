{
 "cells": [
  {
   "cell_type": "markdown",
   "metadata": {},
   "source": [
    "## 朴素贝叶斯\n",
    "\n",
    "\\begin{equation}\n",
    "\\begin{aligned}\n",
    "P(y|x_1,x_2,...,x_m) & =P(y|\\mathbf{x}) \\\\\n",
    "& = \\frac{P(\\mathbf{x}|y)P(y)}{P(\\mathbf{x})} \\text{（根据贝叶斯定理）}\n",
    "\\end{aligned}\n",
    "\\end{equation}\n",
    "\n",
    "由于$P(\\mathbf{x})$对于所有类别都是一样的，所以可以忽略，所以只需求分子$P(\\mathbf{x}|y)P(y)$就可以。\n",
    "\n",
    "另外，朴素贝叶斯假设各个特征之间条件独立，也就是$P(\\mathbf{x}|y)=P(x_1|y)P(x_2|y)P(x_3|y)...P(x_m|y)$，这在真实世界是不太可能的，但这样可以简化运算。这就是朴素贝叶斯之所以朴素（Naive）的由来。\n",
    "\n",
    "最终的模型变为：\n",
    "$$\n",
    "P(y|\\mathbf{x})=\\sum^{m}_{i=1}P(x_m|y)P(y)\n",
    "$$"
   ]
  },
  {
   "cell_type": "markdown",
   "metadata": {
    "collapsed": true
   },
   "source": [
    "训练集如下所示，特征分布为：Whether={sunny, rainy}，Homework={has, hasn't}，Car={working, broken}；类别分布为：Play={Yes, No}\n",
    "\n",
    "|Whether|Homework|Car|Play|\n",
    "|:--|:--|:--|:--|\n",
    "|sunny | hasn't | working | Yes |\n",
    "|rainy | hasn't | broken | Yes |\n",
    "|sunny | hasn't |working | Yes |\n",
    "|sunny | has | working | Yes |\n",
    "|sunny | hasn't | working | Yes |\n",
    "|rainy | has | broken | No |\n",
    "|rainy | hasn't | broken | No |\n",
    "|sunny | has | working | No |\n",
    "|sunny | has | broken | No |\n",
    "|rainy | has | broken | No |\n"
   ]
  },
  {
   "cell_type": "markdown",
   "metadata": {},
   "source": [
    "则给定Whether=rainy, Home=has, Car=working的情况下，预测出去玩的概率是多少呢？\n",
    "\n",
    "根据上述公式，出去玩的概率：\n",
    "\\begin{equation}\n",
    "\\begin{aligned}\n",
    "& P(Play=Yes|W=rainy,H=has,C=working) \\\\\n",
    "& = P(W=rainy|Play=Yes) \\cdot P(H=has|Play=Yes) \\cdot P(C=working|Play=Yes) \\cdot P(Play=Yes) \\\\\n",
    "& = \\frac{1}{5} \\cdot \\frac{1}{5} \\cdot \\frac{4}{5} \\\\\n",
    "& = \\frac{4}{125}\n",
    "\\end{aligned}\n",
    "\\end{equation}\n",
    "\n",
    "不出去玩的概率：\n",
    "\\begin{equation}\n",
    "\\begin{aligned}\n",
    "& P(Play=No|W=rainy,H=has,C=working) \\\\\n",
    "& = P(W=rainy|Play=No) \\cdot P(H=has|Play=No) \\cdot P(C=working|Play=No) \\cdot P(Play=No) \\\\\n",
    "& = \\frac{3}{5} \\cdot \\frac{4}{5} \\cdot \\frac{1}{5} \\\\\n",
    "& = \\frac{12}{125}\n",
    "\\end{aligned}\n",
    "\\end{equation}\n",
    "\n",
    "不出去玩的概率大于出去玩的概率，所以预测结果为Play=No。"
   ]
  },
  {
   "cell_type": "markdown",
   "metadata": {},
   "source": [
    "以上便是朴素贝叶斯模型针对离散型数据的计算过程。但日常生活中，有时数据并不一定都是离散型，如下表，当数据为连续型数据时，则需要对数据进行一定的处理，常见方法有区间法和拟合分布函数法。\n",
    "\n",
    "| Height (cm)  |Weight (kg) | Foot Size(cm) | Sex |\n",
    "|--|--|--|:--|\n",
    "| 182 | 82 | 30 | Male |\n",
    "| 152 | 45 | 15 | Female |\n",
    "\n",
    "区间法将连续型数据映射为离散型，比如身高小于160cm的标记为“矮”，160cm到180cm的标记为“中等”，180cm以上的标记为“高”。\n",
    "\n",
    "拟合分布函数法则假设特征满足某一分布，比如假设身高满足正态分布，则可以利用样本计算出均值和方差，然后使用正态分布函数计算相对概率。"
   ]
  },
  {
   "cell_type": "markdown",
   "metadata": {},
   "source": [
    "References:\n",
    "\n",
    "[1] https://en.wikipedia.org/wiki/Naive_Bayes_classifier\n",
    "\n",
    "[2] http://www.ruanyifeng.com/blog/2013/12/naive_bayes_classifier.html\n",
    "\n",
    "[3] http://machinelearningmastery.com/naive-bayes-tutorial-for-machine-learning/"
   ]
  }
 ],
 "metadata": {
  "kernelspec": {
   "display_name": "Python 2",
   "language": "python",
   "name": "python2"
  },
  "language_info": {
   "codemirror_mode": {
    "name": "ipython",
    "version": 2
   },
   "file_extension": ".py",
   "mimetype": "text/x-python",
   "name": "python",
   "nbconvert_exporter": "python",
   "pygments_lexer": "ipython2",
   "version": "2.7.13"
  },
  "toc": {
   "colors": {
    "hover_highlight": "#DAA520",
    "running_highlight": "#FF0000",
    "selected_highlight": "#FFD700"
   },
   "moveMenuLeft": true,
   "nav_menu": {
    "height": "12px",
    "width": "252px"
   },
   "navigate_menu": true,
   "number_sections": true,
   "sideBar": true,
   "threshold": 4,
   "toc_cell": false,
   "toc_section_display": "block",
   "toc_window_display": false,
   "widenNotebook": false
  }
 },
 "nbformat": 4,
 "nbformat_minor": 2
}
