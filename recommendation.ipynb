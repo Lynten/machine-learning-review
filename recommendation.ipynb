{
 "cells": [
  {
   "cell_type": "markdown",
   "metadata": {},
   "source": [
    "\\begin{equation}\n",
    "P(x)\n",
    "\\end{equation}\n",
    "\n",
    "| | Movie 1| Movie 2 | Movie 3 | Movie 4 | Movie 5|\n",
    "|--|--|--|--|--|--|\n",
    "| User 1| 4 | 4 | 0 | 2 | 2 |\n",
    "| User 2| 4 | 0 | 0 | 3 | 3 |\n",
    "| User 3| 4 | 0 | 0 | 1 | 1 |\n",
    "| User 4| 1 | 1 | 1 | 2 | 0 |\n",
    "| User 5| 2 | 2 | 2 | 0 | 0 |\n",
    "| User 6| 1 | 1 | 1 | 0 | 0 |\n",
    "| User 7| 5 | 5 | 5 | 0 | 0 |\n",
    "\n"
   ]
  },
  {
   "cell_type": "markdown",
   "metadata": {},
   "source": [
    "\\begin{equation}\n",
    "\\begin{aligned}\n",
    "s_1 = & CosSim(\\begin{bmatrix}\n",
    "4 \\\\ \n",
    "1 \\\\ \n",
    "2 \\\\ \n",
    "1 \\\\\n",
    "5\n",
    "\\end{bmatrix},\\begin{bmatrix}\n",
    "4 \\\\ \n",
    "1 \\\\ \n",
    "2 \\\\ \n",
    "1 \\\\\n",
    "5\n",
    "\\end{bmatrix})=1 \\\\\n",
    "s_4 = & CosSim(\\begin{bmatrix}\n",
    "2 \\\\ \n",
    "2\n",
    "\\end{bmatrix},\\begin{bmatrix}\n",
    "4 \\\\ \n",
    "1\n",
    "\\end{bmatrix})=0.93 \\\\\n",
    "s_5 = & CosSim(2,4)=1\n",
    "\\end{aligned}\n",
    "\\end{equation}\n",
    "\n",
    "\n",
    "\n",
    "$$\n",
    "Score(\\text{Movie 2})=\\frac{4*1+1*0.93+1*1}{1+0.93+1}=2.02\n",
    "$$\n",
    "\n",
    "同理可计算Moview 3的评分为：\n",
    "$$\n",
    "Score(\\text{Movie 3})=2.50\n",
    "$$\n",
    "\n",
    "所以给用户3推荐的电影顺序为：Movie 3、Movie 2。\n"
   ]
  }
 ],
 "metadata": {
  "kernelspec": {
   "display_name": "Python 2",
   "language": "python",
   "name": "python2"
  },
  "language_info": {
   "codemirror_mode": {
    "name": "ipython",
    "version": 2
   },
   "file_extension": ".py",
   "mimetype": "text/x-python",
   "name": "python",
   "nbconvert_exporter": "python",
   "pygments_lexer": "ipython2",
   "version": "2.7.12"
  }
 },
 "nbformat": 4,
 "nbformat_minor": 2
}
